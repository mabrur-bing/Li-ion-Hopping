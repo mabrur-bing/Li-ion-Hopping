{
 "cells": [
  {
   "cell_type": "markdown",
   "metadata": {},
   "source": [
    "# Exploring Thermal and Kinetic Properties in Lithium Super Ion Conductors"
   ]
  },
  {
   "cell_type": "markdown",
   "metadata": {},
   "source": [
    "This project aims to uncover the relationship between thermal properties, like frustration, and kinetic properties, such as ionic conductivity, in 3D lattice Coulomb gases modeled after Lithium super ion conductors. Lithium super ion conductors are pivotal in advancing battery technologies due to their high ionic conductivity and potential to improve energy storage solutions.\n",
    "\n",
    "Utilizing pymatgen for material analysis and lattice model construction, we focus on Coulombic interactions within these conductors. Our approach combines:\n",
    "\n",
    "1. Parallel Tempering Monte Carlo simulations to quantify frustration,\n",
    "2. Kinetic Monte Carlo methods for assessing ionic conductivity,\n",
    "3. And subsequent thermal quantity evaluations, such as heat capacity, to link microscopic interactions with macroscopic material properties."
   ]
  },
  {
   "cell_type": "markdown",
   "metadata": {
    "id": "aX62vCfRua3c"
   },
   "source": [
    "from multiprocessing import Pool\n",
    "import os\n",
    "import re\n",
    "from IPython.core.pylabtools import figsize\n",
    "from IPython.display import display, clear_output\n",
    "import numpy as np\n",
    "import matplotlib.pyplot as plt\n",
    "from math import pi,sin,cos,sqrt,exp, ceil, factorial\n",
    "import scipy\n",
    "from scipy.special import comb\n",
    "import h5py\n",
    "import pymatgen as mg\n",
    "import random\n",
    "from pymatgen.core import Structure\n",
    "from pymatgen.analysis.ewald import EwaldSummation\n",
    "import time"
   ]
  },
  {
   "cell_type": "markdown",
   "metadata": {
    "id": "-rCetUFkQ80X"
   },
   "source": [
    "**CIF Processing**"
   ]
  },
  {
   "cell_type": "code",
   "execution_count": 3,
   "metadata": {
    "id": "B5gQif14uuwP"
   },
   "outputs": [],
   "source": [
    "def extract_num(string):\n",
    "    result = re.findall(r\"[-+]?\\d*\\.\\d+|\\d+\", string)\n",
    "    floats = []\n",
    "    for i in range(len(result)):\n",
    "        floats.append(float(result[i]))\n",
    "    return floats\n",
    "\n",
    "def cif_processing(struct):\n",
    "    t1 = time.time()\n",
    "    H = EwaldSummation(struct).total_energy_matrix\n",
    "    Li_sites = []\n",
    "    non_Li_sites = []\n",
    "    for i in range(len(struct)):\n",
    "        if ''.join(filter(str.isalpha, struct.sites[i].species_string)) == 'Li':\n",
    "            Li_sites.append(i)\n",
    "        else:\n",
    "            non_Li_sites.append(i)\n",
    "    Li_occu = []\n",
    "    for i in range(len(struct)):\n",
    "        if ''.join(filter(str.isalpha, struct.sites[i].species_string)) == 'Li':\n",
    "          # Li_occu.append(float(''.join(filter(str.isdigit, struct.sites[i].species_string)))/10**(len(''.join(filter(str.isdigit, struct.sites[i].species_string)))-1))\n",
    "            try:\n",
    "                Li_occu.append(extract_num(struct.sites[i].species_string)[0])\n",
    "            except:\n",
    "                Li_occu.append(1)\n",
    "    t2 = time.time()\n",
    "    print (t2 -t1)\n",
    "    return H, np.array(Li_sites), np.array(non_Li_sites), np.array(Li_occu)\n",
    "\n",
    "def A_matrix(H, Li_sites, non_Li_sites, Li_occu):\n",
    "    A_ew = np.zeros((len(Li_sites),len(Li_sites)))\n",
    "    V = np.zeros(len(Li_sites))\n",
    "    for i in range(len(Li_sites)):\n",
    "        for j in range(len(non_Li_sites)):\n",
    "            A_ew[i,i] = A_ew[i,i] + H[Li_sites[i],non_Li_sites[j]]/Li_occu[i]\n",
    "            V[i] = A_ew[i,i]\n",
    "    for i in range(len(Li_sites)):\n",
    "        A_ew[i,i] = A_ew[i,i] + H[Li_sites[i],Li_sites[i]] / Li_occu[i]**2\n",
    "        V[i] = A_ew[i,i]\n",
    "    for i in range(len(Li_sites)):\n",
    "        for j in range(len(Li_sites)):\n",
    "            if i != j:\n",
    "                A_ew[i,j] = 0.5*(H[Li_sites[i],Li_sites[j]] / (Li_occu[i]*Li_occu[j]))\n",
    "            elif i == j:\n",
    "                continue\n",
    "    return (0.6/(np.max(V)-np.min(V)))*A_ew\n",
    "\n",
    "def Energy(state,matrix):\n",
    "    return np.dot(state,np.dot(matrix,state))\n",
    "\n",
    "def check_symmetric(a, rtol=1e-05, atol=1e-08):\n",
    "    return np.allclose(a, a.T, rtol=rtol, atol=atol)\n",
    "\n",
    "def make_graph(struct, cutoff_dist):\n",
    "    Li_Sites = []\n",
    "    Li_indices = []\n",
    "    for i in range(len(struct)):\n",
    "        if ''.join(filter(str.isalpha, struct[i].species_string)) == 'Li':\n",
    "            Li_Sites.append(struct[i])\n",
    "            Li_indices.append(i)\n",
    "    Nbr_list = struct.get_neighbor_list(cutoff_dist, sites=Li_Sites)\n",
    "    graf = []\n",
    "    for n in range(len(Nbr_list[0])):\n",
    "        if (Nbr_list[1][n] in Nbr_list[0]) and Nbr_list[0][n] < Nbr_list[1][n]:\n",
    "            graf.append([Nbr_list[0][n], Nbr_list[1][n]])\n",
    "    return np.array(graf)\n",
    "\n",
    "def generate_state(n_sites,density):\n",
    "    N_Li = int(density*n_sites)\n",
    "    state = np.zeros(n_sites, dtype=bool)\n",
    "    inds = np.random.choice(np.arange(len(state)), size=N_Li, replace=False)\n",
    "    state[inds] = True\n",
    "    return state"
   ]
  },
  {
   "cell_type": "markdown",
   "metadata": {
    "id": "RxlU7J6NRU7u"
   },
   "source": [
    "**MC Function**"
   ]
  },
  {
   "cell_type": "code",
   "execution_count": 4,
   "metadata": {
    "id": "ffYGeAlvT-Ol"
   },
   "outputs": [],
   "source": [
    "def next_pow_two(n):\n",
    "    i = 1\n",
    "    while i < n:\n",
    "        i = i << 1\n",
    "    return i\n",
    "\n",
    "def autocorr_func_1d(x, norm=True):\n",
    "    x = np.atleast_1d(x)\n",
    "    if len(x.shape) != 1:\n",
    "        raise ValueError(\"invalid dimensions for 1D autocorrelation function\")\n",
    "    n = next_pow_two(len(x))\n",
    "    # Compute the FFT and then (from that) the auto-correlation function\n",
    "    f = np.fft.fft(x - np.mean(x), n=2 * n)\n",
    "    acf = np.fft.ifft(f * np.conjugate(f))[: len(x)].real\n",
    "    acf /= 4 * n\n",
    "    # Optionally normalize\n",
    "    if norm:\n",
    "        acf /= acf[0]\n",
    "    return acf\n",
    "\n",
    "# Automated windowing procedure following Sokal (1989)\n",
    "def auto_window(taus, c):\n",
    "    m = np.arange(len(taus)) < c * taus\n",
    "    if np.any(m):\n",
    "        return np.argmin(m)\n",
    "    return len(taus) - 1\n",
    "\n",
    "# Following the suggestion from Goodman & Weare (2010)\n",
    "def autocorr_gw2010(y, c=5.0):\n",
    "    f = autocorr_func_1d(y)\n",
    "    taus = 2.0 * np.cumsum(f) - 1.0\n",
    "    window = auto_window(taus, c)\n",
    "    return taus[window]"
   ]
  },
  {
   "cell_type": "code",
   "execution_count": 5,
   "metadata": {
    "id": "2FVjecLzwRw1"
   },
   "outputs": [],
   "source": [
    "def switch(state,i,j):\n",
    "    nw_state = state.copy()\n",
    "    nw_state[i], nw_state[j] = state[j], state[i]\n",
    "    return nw_state\n",
    "\n",
    "\n",
    "def switch_energy(state,i,j, A):\n",
    "    n_i, n_j = state[i], state[j]\n",
    "    nw_state = switch(state,i,j)\n",
    "    if n_i==1 and n_j==0:\n",
    "        return np.dot(nw_state,A[:,j]) +np.dot(state,A[:,j]) - np.dot(state,A[:,i]) - np.dot(nw_state,A[:,i])\n",
    "    elif n_i==0 and n_j==1:\n",
    "        return np.dot(nw_state,A[:,i]) +np.dot(state,A[:,i]) - np.dot(state,A[:,j]) - np.dot(nw_state,A[:,j])\n",
    "    else:\n",
    "        return 0.0\n",
    "\n",
    "def switch_energy1(state,i,j, A):\n",
    "    n_i, n_j = state[i], state[j]\n",
    "    nw_state = switch(state,i,j)\n",
    "    if n_i==1 and n_j==0:\n",
    "        return 2*(np.dot(nw_state,A[:,j]) - np.dot(state,A[:,i])) - A[j,j] + A[i,i]\n",
    "    elif n_i==0 and n_j==1:\n",
    "        return 2*(np.dot(nw_state,A[:,i]) - np.dot(state,A[:,j])) - A[i,i] + A[j,j]\n",
    "    else:\n",
    "        return 0.0\n",
    "\n",
    "def switch_energy_fields(state,fields,vac,fil,A_mat):\n",
    "    return 2*(fields[fil]-fields[vac]-A_mat[vac,fil]) + A_mat[fil,fil] + A_mat[vac,vac]\n",
    "\n",
    "def update_rule(bond_vals,inds,rule=1):\n",
    "    \"\"\"\n",
    "    Parameters:\n",
    "\n",
    "    - bond_vals: array of bond values (1,0,-1). Same indices as Nbr_graph\n",
    "    - inds: Nbr_graph indices at which 1st and 2nd neighbor's bonds are located\n",
    "    - rule: turn the bond values 0 at inds into +1 or -1\n",
    "\n",
    "    \"\"\"\n",
    "    for i in inds:\n",
    "        if bond_vals[i] != 0:\n",
    "            bond_vals[i] = 0\n",
    "        elif rule==2:\n",
    "            bond_vals[i] = -1\n",
    "        elif rule==1:\n",
    "            bond_vals[i] = 1\n",
    "    return bond_vals\n",
    "\n",
    "def MHMC(nsteps, state, beta, density, graph, A_mat):\n",
    "    flattened = graph.ravel()\n",
    "    Li_sites = np.unique(flattened)\n",
    "    n_sites = len(Li_sites)\n",
    "    k_B = 8.617333262*10**(-5)\n",
    "    s = 0\n",
    "    n_itt = 0\n",
    "    E_i = Energy(state, A_mat)\n",
    "    eff_fields = np.dot(A_mat, state)\n",
    "    energies = [E_i]\n",
    "    # states = [state]\n",
    "    for step in range(nsteps):\n",
    "        bond_fillings = state[graph]\n",
    "        bond_inds = np.where((bond_fillings[:,0] != bond_fillings[:,1]))[0]\n",
    "        p = np.random.choice(bond_inds)\n",
    "        i1,i2 = graph[p]\n",
    "        mini_state = state[np.array([i1,i2])]\n",
    "        fil,vac = np.array([i1,i2])[np.argsort(mini_state)]\n",
    "        prop_state = switch(state, i1, i2)\n",
    "        dE = switch_energy_fields(state, eff_fields, vac=vac, fil=fil, A_mat=A_mat)\n",
    "        if dE < 0 or np.exp(-(dE)*beta) > np.random.rand():\n",
    "        # states.append(prop_state)\n",
    "            energies.append(E_i + dE)\n",
    "            state = prop_state\n",
    "            E_i = energies[-1]\n",
    "            eff_fields = eff_fields + A[:,fil] - A[:,vac]\n",
    "            s += 1\n",
    "        else:\n",
    "            energies.append(E_i)\n",
    "        continue\n",
    "    accpt = s / nsteps\n",
    "    #print('acc. rate = '+str(s/n_itt))\n",
    "    return state, energies"
   ]
  },
  {
   "cell_type": "code",
   "execution_count": 6,
   "metadata": {
    "id": "iY2gc1hYPeb5"
   },
   "outputs": [],
   "source": [
    "def T_to_beta(T_min,T_max,num_replicas=16,k_B=8.617333262*10**(-5),endpoint=True):\n",
    "    beta_max, beta_min = 1/(k_B*T_max), 1/(k_B*T_min)\n",
    "    betas = np.linspace(beta_min,beta_max,num=num_replicas,endpoint=endpoint)\n",
    "    return betas\n",
    "\n",
    "def attempt_swaps(states, betas, A_mat):\n",
    "    num_replicas = len(betas)\n",
    "    new_states = states.copy()\n",
    "    beta_arr = np.array(betas)\n",
    "    beta_diffs = beta_arr[1:] - beta_arr[:(len(betas)-1)]\n",
    "    energy_diffs = np.array([(Energy(states[i+1],A) - Energy(states[i],A)) for i in range(len(betas)-1)])\n",
    "    deltas = beta_diffs*energy_diffs\n",
    "    inds = np.where((deltas < 0) | (np.random.rand(len(deltas)) < np.exp(-deltas)))[0]\n",
    "    for i in inds:\n",
    "        new_states[i+1], new_states[i] = new_states[i], new_states[i+1]\n",
    "    return new_states, len(inds)\n",
    "\n",
    "def parallel_tempering_mc(nsteps, nswap, betas, density, graph, A_mat, n_processes=16, save_period=500000):\n",
    "    \"\"\" make nsteps integer multiple of nswap \"\"\"\n",
    "    t1 = time.time()\n",
    "    k_B = 8.617333262*10**(-5)\n",
    "    T_min, T_max = 1/(k_B*max(betas)), 1/(k_B*min(betas))\n",
    "    filepath=f'/home/sakib.mc1/mabrur/data/mhmc/{round(T_min,2)}-{round(T_max,2)}_{round(density,3)}.hdf5'\n",
    "    num_replicas = len(betas)\n",
    "    interval = nsteps // nswap\n",
    "    states = [generate_state(len(A_mat),density) for i in range(num_replicas)]\n",
    "    energy_history_all = [[] for i in range(num_replicas)]\n",
    "    tot_swap = 0\n",
    "    for step in range(interval):\n",
    "        with Pool(processes=n_processes) as pool:\n",
    "            args = [(nswap,states[i],betas[i],density,graph,A_mat) for i in range(num_replicas)]\n",
    "            results = pool.starmap(MHMC,args)\n",
    "            states = [results[i][0] for i in range(num_replicas)]\n",
    "            energy_histories = [results[i][1] for i in range(num_replicas)]\n",
    "            for rep in range(num_replicas):\n",
    "                energy_history_all[rep].extend(energy_histories[rep])\n",
    "                #energy_history_all[:, i*nswap:(i+1)*nswap] = energy_histories        \n",
    "        states, swaps = attempt_swaps(states, betas, A_mat)\n",
    "        tot_swap = tot_swap + swaps\n",
    "        if (step*nswap) % save_period==0 and step>0:\n",
    "            with h5py.File(filepath, 'a') as f:\n",
    "                f.create_dataset(f'energies_{step}', data=np.array(energy_history_all))\n",
    "            for energies in energy_history_all:\n",
    "                energies.clear() \n",
    "    swap_ratio = tot_swap / (interval*(num_replicas - 1))            \n",
    "    with h5py.File(filepath, 'a') as file:\n",
    "        file.create_dataset('swap_ratio', data=swap_ratio) \n",
    "    with h5py.File(filepath, 'a') as file:\n",
    "        file.create_dataset('temps', data=1/(k_B*betas))     \n",
    "    t2 = time.time()   \n",
    "    print(t2-t1)"
   ]
  },
  {
   "cell_type": "code",
   "execution_count": 7,
   "metadata": {
    "id": "VK99ArhkT1bO"
   },
   "outputs": [],
   "source": [
    "def rates(state, graph, bond_vals, fields, A, T, kB = 8.617333262*10**(-5), r0=1):\n",
    "    nz_bond_inds = np.nonzero(bond_vals)[0]\n",
    "    fst_inds, scnd_inds = graph[:,0][nz_bond_inds], graph[:,1][nz_bond_inds]\n",
    "    open_bond_energies = bond_vals[nz_bond_inds]*(2*(fields[fst_inds]-fields[scnd_inds]-\\\n",
    "                       A[np.array(list(zip(fst_inds,scnd_inds)))]) + A[np.array(list(zip(fst_inds,fst_inds)))] + A[np.array(list(zip(scnd_inds,scnd_inds)))])\n",
    "    rates = np.zeros(len(bond_vals))\n",
    "    energy_diffs = rates.copy()\n",
    "    rates[nz_bond_inds] = r0*np.exp(-open_bond_energies/(kB*T))\n",
    "    cum_rates = rates.cumsum()\n",
    "    energy_diffs[nz_bond_inds] = open_bond_energies\n",
    "    return rates, cum_rates, energy_diffs\n",
    "\n",
    "def choose_next_state(state, graph, cum_rates, bond_vals):\n",
    "    i=0\n",
    "    Q = cum_rates[-1]\n",
    "    u = np.random.random()\n",
    "    while cum_rates[i] < u*Q:\n",
    "        i += 1\n",
    "    site1, site2 = graph[i]\n",
    "    new_state = switch(state,site1,site2)\n",
    "    return new_state, i\n",
    "\n",
    "def KMC(nsteps, state, T, density, graph, A_mat, kB = 8.617333262*10**(-5), r0=1, save_interval=50000):\n",
    "    filepath=f'/home/sakib.mc1/mabrur/data/kmc/{T}_{round(density,3)}_.hdf5'\n",
    "    flattened = graph.ravel()\n",
    "    Li_sites = np.unique(flattened)\n",
    "    n_sites = len(Li_sites)\n",
    "    energies = np.zeros(nsteps)\n",
    "    k_B = 8.617333262*10**(-5)\n",
    "    s = 0\n",
    "    n_itt = 0\n",
    "    energy = Energy(state, A_mat)\n",
    "    t = 0.0\n",
    "    eff_fields = np.dot(A_mat, state)\n",
    "    #create the neighbors list for each site as a dictionary.\n",
    "    nbr_dict = dict.fromkeys(Li_sites)\n",
    "    for key in nbr_dict:\n",
    "        nbr_dict[key] = [[],[]]\n",
    "        for ind,bond in enumerate(graph):\n",
    "            if bond[0]==key:\n",
    "                nbr_dict[key][0].append(ind)\n",
    "            elif bond[1]==key:\n",
    "                nbr_dict[key][1].append(ind)\n",
    "    #create the t array\n",
    "    bond_vals = np.zeros(len(graph))\n",
    "    for i,bond in enumerate(graph):\n",
    "        if sum(state[bond]) == 1:\n",
    "            if state[bond[0]]==0:\n",
    "                bond_vals[i] = 1\n",
    "            else:\n",
    "                bond_vals[i] == -1\n",
    "    times = [t]\n",
    "    states = [state]\n",
    "    energies = [energy]\n",
    "    #filename = 'kmc_simulation.hdf5'\n",
    "    for step in range(nsteps):\n",
    "        rates, cum_rates, energy_diffs = rates(state,graph,bond_vals,eff_fields,A_mat,T,kB=kB,r0=r0)\n",
    "        state, ind = choose_next_state(state, graph, cum_rates, bond_vals)\n",
    "        energy = energy + energy_diffs[ind]\n",
    "        u = np.random.random()\n",
    "        t = t + np.log(1/u) / cum_rates[-1]\n",
    "        states.append(state)\n",
    "        times.append(t)\n",
    "        energies.append(energy)\n",
    "        #update bond_vals\n",
    "        fil, vac = graph[ind]\n",
    "        if bond_vals[ind] == -1:\n",
    "            vac, fil = graph[ind]\n",
    "        fil_1st_vac_2nd, fil_2nd_vac_1st = np.concatenate((nbr_dict[fil][0],nbr_dict[vac][1])), np.concatenate((nbr_dict[fil][1],nbr_dict[vac][0]))\n",
    "        bond_vals[fil_1st_vac_2nd], bond_vals[fil_2nd_vac_1st] = np.abs(bond_vals[fil_1st_vac_2nd]) - 1, 1 - np.abs(bond_vals[fil_2nd_vac_1st])\n",
    "        #update eff_fields\n",
    "        eff_fields = eff_fields + A_mat[:,fil] - A_mat[:,vac]\n",
    "        if step % save_interval==0 and step > 0:\n",
    "            with h5py.File(filename, 'a') as f:  # Append data to the HDF5 file\n",
    "                # You can structure your file with groups and datasets as needed\n",
    "                f.create_dataset(f'states/interval_{step}', data=np.array(states))\n",
    "                f.create_dataset(f'times/interval_{step}', data=np.array(times))\n",
    "                f.create_dataset(f'energies/interval_{step}', data=np.array(energies))\n",
    "            del states[:]\n",
    "            del times[:]\n",
    "            del energies[:]\n",
    "    if len(states)!=0:\n",
    "        with h5py.File(filename, 'a') as f:\n",
    "            f.create_dataset(f'states/interval_{step}', data=np.array(states))\n",
    "            f.create_dataset(f'times/interval_{step}', data=np.array(times))\n",
    "            f.create_dataset(f'observables/interval_{step}', data=np.array(energies))"
   ]
  },
  {
   "cell_type": "code",
   "execution_count": 13,
   "metadata": {},
   "outputs": [],
   "source": [
    "def file_unpack_mhmc(filepath):\n",
    "    with h5py.File(filepath, 'r') as file:\n",
    "        datasets = list(file.keys())\n",
    "        num_walkers = file[datasets[0]].shape[0]\n",
    "        walker_energies = {walker: [] for walker in range(num_walkers)}\n",
    "        swap_ratio = file['swap_ratio'][()]\n",
    "        temps = file['temps'][()]\n",
    "        for dataset_name in datasets:\n",
    "            if 'energies' in dataset_name:\n",
    "                dataset = file[dataset_name]\n",
    "                for walker in range(num_walkers):\n",
    "                    walker_energies[walker].extend(dataset[walker])\n",
    "    return swap_ratio, temps, walker_energies\n",
    "\n",
    "def heat_capacities(filepath, skip=5000, k_B = 8.617333262*10**(-5)):\n",
    "    swap_ratio, temps, walker_energies = file_unpack_mhmc(filepath)\n",
    "    heat_capacities = []\n",
    "    for i in range(len(walker_energies)):\n",
    "        hc = np.var(np.array(walker_energies[i])[int(len(walker_energies[i])/10)::skip]) / (k_B*(temps[i]**2))\n",
    "        heat_capacities.append(hc)\n",
    "    return temps, heat_capacities  \n",
    "\n",
    "#def entropy(density, T_high=10000, path=f'/home/sakib.mc1/mabrur/data/mhmc/',k_B = 8.617333262*10**(-5)):\n",
    "    "
   ]
  },
  {
   "cell_type": "code",
   "execution_count": 9,
   "metadata": {
    "colab": {
     "base_uri": "https://localhost:8080/"
    },
    "id": "Fpk9hSEf_FPU",
    "outputId": "e6ed40c0-5a15-4316-929d-d7c060e5a470"
   },
   "outputs": [
    {
     "name": "stdout",
     "output_type": "stream",
     "text": [
      "75.40928339958191\n"
     ]
    }
   ],
   "source": [
    "if __name__ == \"__main__\":\n",
    "    Li_Cif = ('/home/sakib.mc1/mabrur/cif/llzo cubic.cif')\n",
    "    struct = Structure.from_file(Li_Cif)\n",
    "    struct.make_supercell([2,2,1], to_unit_cell=False)\n",
    "    cif_processed = cif_processing(struct)\n",
    "    A = A_matrix(cif_processed[0],cif_processed[1],cif_processed[2],cif_processed[3])\n",
    "    Nbr_graph = make_graph(struct, 2.0)\n",
    "    np.shape(Nbr_graph)"
   ]
  },
  {
   "cell_type": "code",
   "execution_count": 10,
   "metadata": {},
   "outputs": [
    {
     "name": "stdout",
     "output_type": "stream",
     "text": [
      "['6000.0-9600.0_0.6.hdf5', '6000.0-9600.0_0.333.hdf5', '100.0-266.67_0.333.hdf5', '300.0-564.71_0.333.hdf5', '4000.0-5818.18_0.467.hdf5', '4000.0-5818.18_0.6.hdf5', '3000.0-3918.37_0.333.hdf5', '107.0-118.57_0.467.hdf5', '900.0-1175.51_0.467.hdf5', '600.0-872.73_0.467.hdf5', '100.0-266.67_0.6.hdf5', '900.0-1175.51_0.6.hdf5', '6000.0-9600.0_0.467.hdf5', '4000.0-5818.18_0.333.hdf5', '80.0-137.99_0.467.hdf5', '3000.0-3918.37_0.6.hdf5', '600.0-872.73_0.6.hdf5', '300.0-564.71_0.6.hdf5', '3000.0-3918.37_0.467.hdf5', '600.0-872.73_0.333.hdf5', '300.0-564.71_0.467.hdf5', '900.0-1175.51_0.333.hdf5']\n"
     ]
    }
   ],
   "source": [
    "if __name__ == \"__main__\":\n",
    "    path=f'/home/sakib.mc1/mabrur/data/mhmc'\n",
    "    filenames = os.listdir(path)\n",
    "    print(filenames)"
   ]
  },
  {
   "cell_type": "code",
   "execution_count": null,
   "metadata": {},
   "outputs": [],
   "source": [
    "if __name__ == \"__main__\":\n",
    "    t1 = time.time()\n",
    "    betas = T_to_beta(T_min=500,T_max=600,num_replicas=16)\n",
    "    parallel_tempering_mc(nsteps=50000, nswap=1000, betas=betas, density=7/15, graph=Nbr_graph, A_mat=A)\n",
    "    t2 = time.time()\n",
    "    print(t2-t1)"
   ]
  },
  {
   "cell_type": "code",
   "execution_count": null,
   "metadata": {},
   "outputs": [],
   "source": [
    "if __name__ == \"__main__\":\n",
    "    densities = [7/15]\n",
    "    temp_ends = [80,145]\n",
    "    betas = [T_to_beta(T_min=temp_ends[i],T_max=temp_ends[i+1],endpoint=False, num_replicas=16) for i in range(len(temp_ends)-1)]\n",
    "    for i in range(len(densities)):\n",
    "        for j in range(len(betas)):\n",
    "            parallel_tempering_mc(nsteps=200000000, nswap=100000, betas=betas[j], density=densities[i], graph=Nbr_graph, A_mat=A,n_processes=16)"
   ]
  },
  {
   "cell_type": "code",
   "execution_count": 11,
   "metadata": {},
   "outputs": [
    {
     "name": "stdout",
     "output_type": "stream",
     "text": [
      "0.583\n"
     ]
    }
   ],
   "source": [
    "if __name__ == \"__main__\":\n",
    "    filepath='/home/sakib.mc1/mabrur/data/mhmc//80.0-137.99_0.467.hdf5'\n",
    "    swap_rat, temps, walker_energies = file_unpack_mhmc(filepath)\n",
    "    print(swap_rat)"
   ]
  },
  {
   "cell_type": "code",
   "execution_count": 12,
   "metadata": {},
   "outputs": [
    {
     "data": {
      "text/plain": [
       "array([ 80.        ,  82.3059867 ,  84.74885845,  87.34117647,\n",
       "        90.09708738,  93.03258145,  96.16580311,  99.51742627,\n",
       "       103.11111111, 106.9740634 , 111.13772455, 115.63862928,\n",
       "       120.51948052, 125.83050847, 131.63120567, 137.99256506])"
      ]
     },
     "execution_count": 12,
     "metadata": {},
     "output_type": "execute_result"
    }
   ],
   "source": [
    "temps"
   ]
  },
  {
   "cell_type": "code",
   "execution_count": 51,
   "metadata": {},
   "outputs": [
    {
     "name": "stdout",
     "output_type": "stream",
     "text": [
      "500917.8756236928\n"
     ]
    }
   ],
   "source": [
    "if __name__ == \"__main__\":\n",
    "    atocor = autocorr_gw2010(walker_energies[0][4000000:9000000], c=5.0)\n",
    "    print(atocor)                                            "
   ]
  },
  {
   "cell_type": "code",
   "execution_count": 12,
   "metadata": {},
   "outputs": [
    {
     "data": {
      "image/png": "[encoded data removed]",
      "text/plain": [
       "<Figure size 432x288 with 1 Axes>"
      ]
     },
     "metadata": {
      "needs_background": "light"
     },
     "output_type": "display_data"
    }
   ],
   "source": [
    "if __name__ == \"__main__\":\n",
    "    X = [x-10000000 for x in np.arange(20000000,70000001,10000000)]\n",
    "    Y = [ autocorr_gw2010(walker_energies[2][10000000:y], c=5.0) for y in np.arange(20000000,70000001,10000000)]\n",
    "    plt.plot(X,Y,'x',markersize=10)\n",
    "    plt.xlabel('mc steps')\n",
    "    plt.ylabel('autocorr. time')\n",
    "    plt.show()"
   ]
  },
  {
   "cell_type": "code",
   "execution_count": 55,
   "metadata": {},
   "outputs": [
    {
     "data": {
      "image/png": "[encoded data removed]",
      "text/plain": [
       "<Figure size 432x288 with 1 Axes>"
      ]
     },
     "metadata": {
      "needs_background": "light"
     },
     "output_type": "display_data"
    }
   ],
   "source": [
    "plt.plot(X,Y,'x',markersize=10)\n",
    "plt.xlabel('mc steps')\n",
    "plt.ylabel('autocorr. time')\n",
    "plt.show()"
   ]
  },
  {
   "cell_type": "code",
   "execution_count": 84,
   "metadata": {},
   "outputs": [
    {
     "name": "stdout",
     "output_type": "stream",
     "text": [
      "['6000.0-9600.0_0.6.hdf5', '6000.0-9600.0_0.333.hdf5', '100.0-266.67_0.333.hdf5', '300.0-564.71_0.333.hdf5', '4000.0-5818.18_0.467.hdf5', '4000.0-5818.18_0.6.hdf5', '3000.0-3918.37_0.333.hdf5', '107.0-118.57_0.467.hdf5', '900.0-1175.51_0.467.hdf5', '600.0-872.73_0.467.hdf5', '100.0-266.67_0.6.hdf5', '900.0-1175.51_0.6.hdf5', '6000.0-9600.0_0.467.hdf5', '4000.0-5818.18_0.333.hdf5', '80.0-137.99_0.467.hdf5', '3000.0-3918.37_0.6.hdf5', '600.0-872.73_0.6.hdf5', '300.0-564.71_0.6.hdf5', '3000.0-3918.37_0.467.hdf5', '600.0-872.73_0.333.hdf5', '300.0-564.71_0.467.hdf5', '900.0-1175.51_0.333.hdf5']\n"
     ]
    }
   ],
   "source": [
    "if __name__ == \"__main__\":\n",
    "    path=f'/home/sakib.mc1/mabrur/data/mhmc'\n",
    "    filenames = os.listdir(path)\n",
    "    print(filenames)"
   ]
  },
  {
   "cell_type": "code",
   "execution_count": 10,
   "metadata": {},
   "outputs": [
    {
     "name": "stdout",
     "output_type": "stream",
     "text": [
      "/home/sakib.mc1/mabrur/data/mhmc//4000.0-5818.18_0.467.hdf5\n",
      "/home/sakib.mc1/mabrur/data/mhmc//107.0-118.57_0.467.hdf5\n",
      "/home/sakib.mc1/mabrur/data/mhmc//900.0-1175.51_0.467.hdf5\n",
      "/home/sakib.mc1/mabrur/data/mhmc//600.0-872.73_0.467.hdf5\n",
      "/home/sakib.mc1/mabrur/data/mhmc//6000.0-9600.0_0.467.hdf5\n",
      "/home/sakib.mc1/mabrur/data/mhmc//80.0-137.99_0.467.hdf5\n",
      "/home/sakib.mc1/mabrur/data/mhmc//3000.0-3918.37_0.467.hdf5\n",
      "/home/sakib.mc1/mabrur/data/mhmc//300.0-564.71_0.467.hdf5\n"
     ]
    }
   ],
   "source": [
    "if __name__ == \"__main__\":\n",
    "    path='/home/sakib.mc1/mabrur/data/mhmc/'\n",
    "    filenames = os.listdir(path)\n",
    "    for filename in filenames:\n",
    "        if \"0.467\" in filename:\n",
    "            print(path+'/'+filename)"
   ]
  },
  {
   "cell_type": "code",
   "execution_count": 74,
   "metadata": {},
   "outputs": [
    {
     "name": "stdout",
     "output_type": "stream",
     "text": [
      "3.916209034783964e+142\n"
     ]
    }
   ],
   "source": [
    "combs = comb(480,224)\n",
    "print(combs)"
   ]
  },
  {
   "cell_type": "code",
   "execution_count": null,
   "metadata": {},
   "outputs": [],
   "source": [
    "if __name__ == \"__main__\":\n",
    "    temps_lst = []\n",
    "    heat_capacity_lst = []\n",
    "    path=f'/home/sakib.mc1/mabrur/data/mhmc'\n",
    "    filenames = os.listdir(path)\n",
    "    for filename in filenames:\n",
    "        if \"0.467\" in filename:\n",
    "            tems, heat_caps = heat_capacities(path+'/'+filename, k_B = 8.617333262*10**(-5))\n",
    "            temps_lst.extend(tems)\n",
    "            heat_capacity_lst.extend(heat_caps)\n",
    "    plt.plot(np.array(tems),np.array(heat_caps)/np.array(tems),'x',markersize=10)\n",
    "    plt.xlabel('T')\n",
    "    plt.ylabel('C/T')\n",
    "    plt.show()        "
   ]
  },
  {
   "cell_type": "code",
   "execution_count": 79,
   "metadata": {},
   "outputs": [
    {
     "data": {
      "image/png": "[encoded data removed]",
      "text/plain": [
       "<Figure size 432x288 with 1 Axes>"
      ]
     },
     "metadata": {
      "needs_background": "light"
     },
     "output_type": "display_data"
    }
   ],
   "source": [
    "inds = np.argsort(np.array(tems))\n",
    "tems_sorted = np.array(tems)[inds]\n",
    "hc_sorted = np.array(heat_caps)[inds]\n",
    "plt.scatter(tems_sorted[:30],hc_sorted[:30],marker='x',s=60)\n",
    "plt.plot(tems_sorted[:30],hc_sorted[:30],'r--')\n",
    "plt.xlabel('T')\n",
    "plt.ylabel('C')\n",
    "plt.show()  "
   ]
  },
  {
   "cell_type": "code",
   "execution_count": 38,
   "metadata": {},
   "outputs": [
    {
     "data": {
      "text/plain": [
       "48"
      ]
     },
     "execution_count": 38,
     "metadata": {},
     "output_type": "execute_result"
    }
   ],
   "source": [
    "np.argmin(np.array(tems))"
   ]
  },
  {
   "cell_type": "code",
   "execution_count": 39,
   "metadata": {},
   "outputs": [
    {
     "data": {
      "text/plain": [
       "0.00478466225800982"
      ]
     },
     "execution_count": 39,
     "metadata": {},
     "output_type": "execute_result"
    }
   ],
   "source": [
    "np.array(heat_caps)[48]/np.array(tems)[48]"
   ]
  },
  {
   "cell_type": "code",
   "execution_count": null,
   "metadata": {},
   "outputs": [],
   "source": []
  }
 ],
 "metadata": {
  "colab": {
   "machine_shape": "hm",
   "provenance": []
  },
  "kernelspec": {
   "display_name": "Python 3 (ipykernel)",
   "language": "python",
   "name": "python3"
  },
  "language_info": {
   "codemirror_mode": {
    "name": "ipython",
    "version": 3
   },
   "file_extension": ".py",
   "mimetype": "text/x-python",
   "name": "python",
   "nbconvert_exporter": "python",
   "pygments_lexer": "ipython3",
   "version": "3.9.12"
  }
 },
 "nbformat": 4,
 "nbformat_minor": 1
}
