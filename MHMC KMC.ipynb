{
  "nbformat": 4,
  "nbformat_minor": 0,
  "metadata": {
    "colab": {
      "provenance": [],
      "machine_shape": "hm"
    },
    "kernelspec": {
      "name": "python3",
      "display_name": "Python 3"
    },
    "language_info": {
      "name": "python"
    }
  },
  "cells": [
    {
      "cell_type": "code",
      "execution_count": null,
      "metadata": {
        "id": "aX62vCfRua3c"
      },
      "outputs": [],
      "source": [
        "!pip install pymatgen\n",
        "from multiprocessing import Pool\n",
        "import os\n",
        "import re\n",
        "from IPython.core.pylabtools import figsize\n",
        "from IPython.display import display, clear_output\n",
        "import numpy as np\n",
        "import matplotlib.pyplot as plt\n",
        "from pathlib import Path\n",
        "import pandas as pd\n",
        "from math import pi,sin,cos,sqrt,exp, ceil, factorial\n",
        "import scipy\n",
        "import h5py\n",
        "import pymatgen as mg\n",
        "from numba import njit\n",
        "import random\n",
        "from pymatgen.core import Structure\n",
        "from pymatgen.analysis.ewald import EwaldSummation\n",
        "import time\n",
        "import statistics as stat\n",
        "import pandas as pd\n",
        "from google.colab import drive\n",
        "drive.mount('/content/drive')"
      ]
    },
    {
      "cell_type": "markdown",
      "source": [
        "**CIF Processing**"
      ],
      "metadata": {
        "id": "-rCetUFkQ80X"
      }
    },
    {
      "cell_type": "code",
      "source": [
        "def extract_num(string):\n",
        "  result = re.findall(r\"[-+]?\\d*\\.\\d+|\\d+\", string)\n",
        "  floats = []\n",
        "  for i in range(len(result)):\n",
        "    floats.append(float(result[i]))\n",
        "  return floats\n",
        "\n",
        "def cif_processing(struct):\n",
        "  t1 = time.time()\n",
        "  H = EwaldSummation(struct).total_energy_matrix\n",
        "  Li_sites = []\n",
        "  non_Li_sites = []\n",
        "  for i in range(len(struct)):\n",
        "    if ''.join(filter(str.isalpha, struct.sites[i].species_string)) == 'Li':\n",
        "      Li_sites.append(i)\n",
        "    else:\n",
        "      non_Li_sites.append(i)\n",
        "  Li_occu = []\n",
        "  for i in range(len(struct)):\n",
        "    if ''.join(filter(str.isalpha, struct.sites[i].species_string)) == 'Li':\n",
        "      # Li_occu.append(float(''.join(filter(str.isdigit, struct.sites[i].species_string)))/10**(len(''.join(filter(str.isdigit, struct.sites[i].species_string)))-1))\n",
        "      try:\n",
        "        Li_occu.append(extract_num(struct.sites[i].species_string)[0])\n",
        "      except:\n",
        "        Li_occu.append(1)\n",
        "  t2 = time.time()\n",
        "  print (t2 -t1)\n",
        "  return H, np.array(Li_sites), np.array(non_Li_sites), np.array(Li_occu)\n",
        "\n",
        "@njit\n",
        "def A_matrix(H, Li_sites, non_Li_sites, Li_occu):\n",
        "  A_ew = np.zeros((len(Li_sites),len(Li_sites)))\n",
        "  V = np.zeros(len(Li_sites))\n",
        "  for i in range(len(Li_sites)):\n",
        "    for j in range(len(non_Li_sites)):\n",
        "      A_ew[i,i] = A_ew[i,i] + H[Li_sites[i],non_Li_sites[j]]/Li_occu[i]\n",
        "      V[i] = A_ew[i,i]\n",
        "  for i in range(len(Li_sites)):\n",
        "    A_ew[i,i] = A_ew[i,i] + H[Li_sites[i],Li_sites[i]] / Li_occu[i]**2\n",
        "    V[i] = A_ew[i,i]\n",
        "  for i in range(len(Li_sites)):\n",
        "    for j in range(len(Li_sites)):\n",
        "      if i != j:\n",
        "        A_ew[i,j] = 0.5*(H[Li_sites[i],Li_sites[j]] / (Li_occu[i]*Li_occu[j]))\n",
        "      elif i == j:\n",
        "        continue\n",
        "  return (0.6/(np.max(V)-np.min(V)))*A_ew\n",
        "\n",
        "@njit\n",
        "def Energy(state,matrix):\n",
        "  return np.dot(state,np.dot(matrix,state))\n",
        "\n",
        "def check_symmetric(a, rtol=1e-05, atol=1e-08):\n",
        "    return np.allclose(a, a.T, rtol=rtol, atol=atol)\n",
        "\n",
        "def make_graph(struct, cutoff_dist):\n",
        "  Li_Sites = []\n",
        "  Li_indices = []\n",
        "  for i in range(len(struct)):\n",
        "    if ''.join(filter(str.isalpha, struct[i].species_string)) == 'Li':\n",
        "      Li_Sites.append(struct[i])\n",
        "      Li_indices.append(i)\n",
        "  Nbr_list = struct.get_neighbor_list(cutoff_dist, sites=Li_Sites)\n",
        "  graf = []\n",
        "  for n in range(len(Nbr_list[0])):\n",
        "    if (Nbr_list[1][n] in Nbr_list[0]) and Nbr_list[0][n] < Nbr_list[1][n]:\n",
        "      graf.append([Nbr_list[0][n], Nbr_list[1][n]])\n",
        "  return np.array(graf)\n",
        "\n",
        "def generate_state(n_sites,density):\n",
        "  N_Li = int(density*n_sites)\n",
        "  state = np.zeros(n_sites, dtype=bool)\n",
        "  inds = np.random.choice(np.arange(len(state)), size=n_sites, replace=False)\n",
        "  state[inds] = True\n",
        "  return state"
      ],
      "metadata": {
        "id": "B5gQif14uuwP"
      },
      "execution_count": null,
      "outputs": []
    },
    {
      "cell_type": "markdown",
      "source": [
        "**MC Function**"
      ],
      "metadata": {
        "id": "RxlU7J6NRU7u"
      }
    },
    {
      "cell_type": "code",
      "source": [
        "def next_pow_two(n):\n",
        "    i = 1\n",
        "    while i < n:\n",
        "        i = i << 1\n",
        "    return i\n",
        "\n",
        "def autocorr_func_1d(x, norm=True):\n",
        "  x = np.atleast_1d(x)\n",
        "  if len(x.shape) != 1:\n",
        "    raise ValueError(\"invalid dimensions for 1D autocorrelation function\")\n",
        "  n = next_pow_two(len(x))\n",
        "  # Compute the FFT and then (from that) the auto-correlation function\n",
        "  f = np.fft.fft(x - np.mean(x), n=2 * n)\n",
        "  acf = np.fft.ifft(f * np.conjugate(f))[: len(x)].real\n",
        "  acf /= 4 * n\n",
        "  # Optionally normalize\n",
        "  if norm:\n",
        "    acf /= acf[0]\n",
        "  return acf\n",
        "\n",
        "# Automated windowing procedure following Sokal (1989)\n",
        "def auto_window(taus, c):\n",
        "    m = np.arange(len(taus)) < c * taus\n",
        "    if np.any(m):\n",
        "        return np.argmin(m)\n",
        "    return len(taus) - 1\n",
        "\n",
        "# Following the suggestion from Goodman & Weare (2010)\n",
        "def autocorr_gw2010(y, c=5.0):\n",
        "    f = autocorr_func_1d(y)\n",
        "    taus = 2.0 * np.cumsum(f) - 1.0\n",
        "    window = auto_window(taus, c)\n",
        "    return taus[window]"
      ],
      "metadata": {
        "id": "ffYGeAlvT-Ol"
      },
      "execution_count": null,
      "outputs": []
    },
    {
      "cell_type": "code",
      "source": [
        "@njit\n",
        "def switch(state,i,j):\n",
        "  nw_state = state.copy()\n",
        "  nw_state[i], nw_state[j] = state[j], state[i]\n",
        "  return nw_state\n",
        "\n",
        "\n",
        "@njit\n",
        "def switch_energy(state,i,j, A):\n",
        "  n_i, n_j = state[i], state[j]\n",
        "  nw_state = switch(state,i,j)\n",
        "  if n_i==1 and n_j==0:\n",
        "    return np.dot(nw_state,A[:,j]) +np.dot(state,A[:,j]) - np.dot(state,A[:,i]) - np.dot(nw_state,A[:,i])\n",
        "  elif n_i==0 and n_j==1:\n",
        "    return np.dot(nw_state,A[:,i]) +np.dot(state,A[:,i]) - np.dot(state,A[:,j]) - np.dot(nw_state,A[:,j])\n",
        "  else:\n",
        "    return 0.0\n",
        "\n",
        "@njit\n",
        "def switch_energy1(state,i,j, A):\n",
        "  n_i, n_j = state[i], state[j]\n",
        "  nw_state = switch(state,i,j)\n",
        "  if n_i==1 and n_j==0:\n",
        "    return 2*(np.dot(nw_state,A[:,j]) - np.dot(state,A[:,i])) - A[j,j] + A[i,i]\n",
        "  elif n_i==0 and n_j==1:\n",
        "    return 2*(np.dot(nw_state,A[:,i]) - np.dot(state,A[:,j])) - A[i,i] + A[j,j]\n",
        "  else:\n",
        "    return 0.0\n",
        "\n",
        "def switch_energy_fields(state,fields,vac,fil,A_mat):\n",
        "  return 2*(fields[fil]-fields[vac]-A_mat[vac,fil]) + A_mat[fil,fil] + A_mat[vac,vac]\n",
        "\n",
        "def update_rule(bond_vals,inds,rule=1):\n",
        "  \"\"\"\n",
        "  Parameters:\n",
        "\n",
        "  - bond_vals: array of bond values (1,0,-1). Same indices as Nbr_graph\n",
        "  - inds: Nbr_graph indices at which 1st and 2nd neighbor's bonds are located\n",
        "  - rule: turn the bond values 0 at inds into +1 or -1\n",
        "\n",
        "  \"\"\"\n",
        "  for i in inds:\n",
        "    if bond_vals[i] != 0:\n",
        "      bond_vals[i] = 0\n",
        "    elif rule==2:\n",
        "      bond_vals[i] = -1\n",
        "    elif rule==1:\n",
        "      bond_vals[i] = 1\n",
        "  return bond_vals\n",
        "\n",
        "def MHMC(nsteps, state, beta, density, graph, A_mat):\n",
        "    flattened = graph.ravel()\n",
        "    Li_sites = np.unique(flattened)\n",
        "    n_sites = len(Li_sites)\n",
        "    k_B = 8.617333262*10**(-5)\n",
        "    s = 0\n",
        "    n_itt = 0\n",
        "    E_i = Energy(state, A_mat)\n",
        "    eff_fields = np.dot(A_mat, state)\n",
        "    energies = [E_i]\n",
        "    # states = [state]\n",
        "    for step in range(nsteps):\n",
        "      bond_fillings = state[graph]\n",
        "      bond_inds = np.where((bond_fillings[:,0] != bond_fillings[:,1]))[0]\n",
        "      p = np.random.choice(bond_inds)\n",
        "      i1,i2 = graph[p]\n",
        "      mini_state = state[np.array([i1,i2])]\n",
        "      fil,vac = np.array([i1,i2])[np.argsort(mini_state)]\n",
        "      prop_state = switch(state, i1, i2)\n",
        "      dE = switch_energy_fields(state, eff_fields, vac=vac, fil=fil, A=A_mat)\n",
        "      if dE < 0 or np.exp(-(dE)*beta) > np.random.rand():\n",
        "        # states.append(prop_state)\n",
        "        energies.append(E_i + dE)\n",
        "        state = prop_state\n",
        "        E_i = energies[-1]\n",
        "        eff_fields = eff_fields + A[:,fil] - A[:,vac]\n",
        "        s += 1\n",
        "      else:\n",
        "        energies.append(E_i)\n",
        "        continue\n",
        "    accpt = s / nsteps\n",
        "    #print('acc. rate = '+str(s/n_itt))\n",
        "    return state, energies"
      ],
      "metadata": {
        "id": "2FVjecLzwRw1"
      },
      "execution_count": null,
      "outputs": []
    },
    {
      "cell_type": "code",
      "source": [
        "def T_to_beta(T_min,T_max,num_replicas):\n",
        "  Ts = np.linspace(T_min,T_max,num_replicas)\n",
        "  betas = 1 / (8.617333262*10**(-5)*Ts)\n",
        "  return betas\n",
        "\n",
        "def attempt_swaps(states, betas, A_mat):\n",
        "  num_replicas = len(betas)\n",
        "  new_states = states.copy()\n",
        "  for i in range(num_replicas - 1):\n",
        "    beta_diff = betas[i+1] - betas[i]\n",
        "    energy_diff = Energy(new_states[i + 1], A_mat) - Energy(new_states[i], A_mat)\n",
        "    delta = beta_diff * energy_diff\n",
        "    if delta < 0 or np.random.rand() < np.exp(-delta):\n",
        "      new_states[i], new_states[i + 1] = new_states[i + 1], new_states[i]\n",
        "  return new_states\n",
        "\n",
        "def parallel_tempering_mc(nsteps, nswap, states, betas, density, graph, A_mat, n_processes, save_period=10000, filename='mhmc.hdf5'):\n",
        "  num_replicas = len(betas)\n",
        "  interval = nsteps // nswap\n",
        "  energy_history_all = [[] for i in range(num_replicas)]\n",
        "  for step in range(interval):\n",
        "    with Pool(processes=n_processes) as pool:\n",
        "      args = [(nswap,states[i],betas[i],density,graph,A_mat) for i in range(num_replicas)]\n",
        "      results = pool.starmap(MHMC,args)\n",
        "      states, energy_histories = zip(*results)\n",
        "      for rep in range(num_replicas):\n",
        "        energy_history_all[rep].append(energy_histories[rep])\n",
        "      #energy_history_all[:, i*nswap:(i+1)*nswap] = energy_histories\n",
        "    states = attempt_swaps(states, betas, A_mat)\n",
        "    if step % save_period==0 and step>0:\n",
        "      with h5py.File(filename, 'a') as f:\n",
        "        f.create_dataset(f'energies/interval_{step}', data=np.array(energy_history_all))\n",
        "      for energies in energy_history_all:\n",
        "        energies.clear()"
      ],
      "metadata": {
        "id": "iY2gc1hYPeb5"
      },
      "execution_count": null,
      "outputs": []
    },
    {
      "cell_type": "code",
      "source": [
        "def rates(state, graph, bond_vals, fields, A, T, kB = 8.617333262*10**(-5), r0=1):\n",
        "  nz_bond_inds = np.nonzero(bond_vals)[0]\n",
        "  fst_inds, scnd_inds = graph[:,0][nz_bond_inds], graph[:,1][nz_bond_inds]\n",
        "  open_bond_energies = bond_vals[nz_bond_inds]*(2*(fields[fst_inds]-fields[scnd_inds]-\\\n",
        "                       A[np.array(list(zip(fst_inds,scnd_inds)))]) + A[np.array(list(zip(fst_inds,fst_inds)))] + A[np.array(list(zip(scnd_inds,scnd_inds)))])\n",
        "  rates = np.zeros(len(bond_vals))\n",
        "  energy_diffs = rates.copy()\n",
        "  rates[nz_bond_inds] = r0*np.exp(-open_bond_energies/(kB*T))\n",
        "  cum_rates = rates.cumsum()\n",
        "  energy_diffs[nz_bond_inds] = open_bond_energies\n",
        "  return rates, cum_rates, energy_diffs\n",
        "\n",
        "def choose_next_state(state, graph, cum_rates, bond_vals):\n",
        "    i=0\n",
        "    Q = cum_rates[-1]\n",
        "    u = np.random.random()\n",
        "    while cum_rates[i] < u*Q:\n",
        "        i += 1\n",
        "    site1, site2 = graph[i]\n",
        "    new_state = switch(state,site1,site2)\n",
        "    return new_state, i\n",
        "\n",
        "def KMC(nsteps, state, T, density, graph, A_mat, kB = 8.617333262*10**(-5), r0=1, save_interval=20000, filename = 'kmc_simulation0.hdf5'):\n",
        "    flattened = graph.ravel()\n",
        "    Li_sites = np.unique(flattened)\n",
        "    n_sites = len(Li_sites)\n",
        "    energies = np.zeros(nsteps)\n",
        "    k_B = 8.617333262*10**(-5)\n",
        "    s = 0\n",
        "    n_itt = 0\n",
        "    energy = Energy(state, A_mat)\n",
        "    t = 0.0\n",
        "    eff_fields = np.dot(A_mat, state)\n",
        "    #create the neighbors list for each site as a dictionary.\n",
        "    nbr_dict = dict.fromkeys(Li_sites)\n",
        "    for key in nbr_dict:\n",
        "      nbr_dict[key] = [[],[]]\n",
        "      for ind,bond in enumerate(graph):\n",
        "        if bond[0]==key:\n",
        "          nbr_dict[key][0].append(ind)\n",
        "        elif bond[1]==key:\n",
        "          nbr_dict[key][1].append(ind)\n",
        "    #create the t array\n",
        "    bond_vals = np.zeros(len(graph))\n",
        "    for i,bond in enumerate(graph):\n",
        "      if sum(state[bond]) == 1:\n",
        "        if state[bond[0]]==0:\n",
        "          bond_vals[i] = 1\n",
        "        else:\n",
        "          bond_vals[i] == -1\n",
        "    times = [t]\n",
        "    states = [state]\n",
        "    energies = [energy]\n",
        "    #filename = 'kmc_simulation.hdf5'\n",
        "    for step in range(nsteps):\n",
        "      rates, cum_rates, energy_diffs = rates(state,graph,bond_vals,eff_fields,A_mat,T,kB=kB,r0=r0)\n",
        "      state, ind = choose_next_state(state, graph, cum_rates, bond_vals)\n",
        "      energy = energy + energy_diffs[ind]\n",
        "      u = np.random.random()\n",
        "      t = t + np.log(1/u) / cum_rates[-1]\n",
        "      states.append(state)\n",
        "      times.append(t)\n",
        "      energies.append(energy)\n",
        "      #update bond_vals\n",
        "      fil, vac = graph[ind]\n",
        "      if bond_vals[ind] == -1:\n",
        "        vac, fil = graph[ind]\n",
        "      fil_1st_vac_2nd, fil_2nd_vac_1st = np.concatenate((nbr_dict[fil][0],nbr_dict[vac][1])), np.concatenate((nbr_dict[fil][1],nbr_dict[vac][0]))\n",
        "      bond_vals[fil_1st_vac_2nd], bond_vals[fil_2nd_vac_1st] = np.abs(bond_vals[fil_1st_vac_2nd]) - 1, 1 - np.abs(bond_vals[fil_2nd_vac_1st])\n",
        "      #update eff_fields\n",
        "      eff_fields = eff_fields + A_mat[:,fil] - A_mat[:,vac]\n",
        "      if step % save_interval==0 and step > 0:\n",
        "        with h5py.File(filename, 'a') as f:  # Append data to the HDF5 file\n",
        "            # You can structure your file with groups and datasets as needed\n",
        "            f.create_dataset(f'states/interval_{step}', data=np.array(states))\n",
        "            f.create_dataset(f'times/interval_{step}', data=np.array(times))\n",
        "            f.create_dataset(f'energies/interval_{step}', data=np.array(energies))\n",
        "        del states[:]\n",
        "        del times[:]\n",
        "        del energies[:]\n",
        "    if len(states)!=0:\n",
        "      with h5py.File(filename, 'a') as f:\n",
        "        f.create_dataset(f'states/interval_{step}', data=np.array(states))\n",
        "        f.create_dataset(f'times/interval_{step}', data=np.array(times))\n",
        "        f.create_dataset(f'observables/interval_{step}', data=np.array(energies))"
      ],
      "metadata": {
        "id": "VK99ArhkT1bO"
      },
      "execution_count": null,
      "outputs": []
    },
    {
      "cell_type": "code",
      "source": [
        "Li_Cif = ('/content/drive/MyDrive/cif/llzo cubic.cif')\n",
        "struct = Structure.from_file(Li_Cif)\n",
        "struct.make_supercell([2,2,1], to_unit_cell=False)\n",
        "cif_processed = cif_processing(struct)"
      ],
      "metadata": {
        "id": "Fpk9hSEf_FPU",
        "colab": {
          "base_uri": "https://localhost:8080/"
        },
        "outputId": "e6ed40c0-5a15-4316-929d-d7c060e5a470"
      },
      "execution_count": null,
      "outputs": [
        {
          "output_type": "stream",
          "name": "stdout",
          "text": [
            "98.53931903839111\n"
          ]
        }
      ]
    },
    {
      "cell_type": "code",
      "source": [
        "test_cif = [np.random.rand(10,10), np.array([1,3,7]), np.array([0,2,4,5,6,8,9]), np.array([0.442,0.442,0.564])]\n",
        "A_test = A_matrix(test_cif[0],test_cif[1],test_cif[2],test_cif[3])\n",
        "A = A_matrix(cif_processed[0],cif_processed[1],cif_processed[2],cif_processed[3])\n",
        "check_symmetric(A)"
      ],
      "metadata": {
        "colab": {
          "base_uri": "https://localhost:8080/"
        },
        "id": "HowjBRcyiGnj",
        "outputId": "380a4a5a-da93-49bd-fe5e-5bcee784b303"
      },
      "execution_count": null,
      "outputs": [
        {
          "output_type": "execute_result",
          "data": {
            "text/plain": [
              "True"
            ]
          },
          "metadata": {},
          "execution_count": 24
        }
      ]
    },
    {
      "cell_type": "code",
      "source": [
        "Nbr_graph = make_graph(struct, 4.0)\n",
        "np.shape(Nbr_graph)\n",
        "plt.hist(Nbr_graph[:,0], len(A))\n",
        "plt.show()"
      ],
      "metadata": {
        "colab": {
          "base_uri": "https://localhost:8080/",
          "height": 430
        },
        "id": "LTosGX_3wwtg",
        "outputId": "61add2da-b152-4171-a9c0-cd6e2d3c46b6"
      },
      "execution_count": null,
      "outputs": [
        {
          "output_type": "display_data",
          "data": {
            "text/plain": [
              "<Figure size 640x480 with 1 Axes>"
            ],
            "image/png": "[encoded data removed]"
          },
          "metadata": {}
        }
      ]
    },
    {
      "cell_type": "code",
      "source": [
        "len(Nbr_graph)"
      ],
      "metadata": {
        "colab": {
          "base_uri": "https://localhost:8080/"
        },
        "id": "ItuZUnSvKypn",
        "outputId": "89e3c962-e98d-46e4-97b1-e725edba5ade"
      },
      "execution_count": null,
      "outputs": [
        {
          "output_type": "execute_result",
          "data": {
            "text/plain": [
              "144"
            ]
          },
          "metadata": {},
          "execution_count": 20
        }
      ]
    },
    {
      "cell_type": "code",
      "source": [
        "state = generate_state(n_sites=len(A),density=7/15)\n",
        "inds = []\n",
        "for ind, sites in enumerate(Nbr_graph):\n",
        "  if np.sum(state[sites]) == 1:\n",
        "    inds.append(ind)\n",
        "p = inds[np.random.randint(0,len(inds))]\n",
        "i, j = Nbr_graph[p]\n",
        "new_state = switch(state,i,j)\n",
        "dE_main = Energy(new_state,A) - Energy(state,A)\n",
        "dE_old = switch_energy(state,i,j,A)\n",
        "dE_1 = switch_energy1(state,i,j,A)\n",
        "dE_h = switch_energy_fields(state,i,j,A)\n",
        "dE_main, dE_old, dE_1, dE_h"
      ],
      "metadata": {
        "colab": {
          "base_uri": "https://localhost:8080/"
        },
        "id": "mCHe9ilTpqry",
        "outputId": "58cbb64a-832d-425a-efe9-a969c6ceeb4b"
      },
      "execution_count": null,
      "outputs": [
        {
          "output_type": "execute_result",
          "data": {
            "text/plain": [
              "(0.12408494586043162,\n",
              " 0.12408494586040675,\n",
              " 0.1240849458604063,\n",
              " 0.12408494586041252)"
            ]
          },
          "metadata": {},
          "execution_count": 22
        }
      ]
    },
    {
      "cell_type": "code",
      "source": [
        "acc, mc_energies = MHMC(n_steps=10000000, density=7/15, T=900, graph=Nbr_graph, A_mat=A)\n",
        "autocorr_gw2010(mc_energies[1000000:], c=5.0)"
      ],
      "metadata": {
        "id": "Zgg1w081sw0F",
        "colab": {
          "base_uri": "https://localhost:8080/"
        },
        "outputId": "b0840181-d6aa-4e85-c124-fb8a513601d9"
      },
      "execution_count": null,
      "outputs": [
        {
          "output_type": "execute_result",
          "data": {
            "text/plain": [
              "2254.794427285412"
            ]
          },
          "metadata": {},
          "execution_count": 49
        }
      ]
    },
    {
      "cell_type": "code",
      "source": [
        "Init_state = generate_state(n_sites=len(A),density=7/15)\n",
        "acc_rate, mc_energies = MHMC_alt(n_steps=40000000, init_state=Init_state, density=7/15, T=500, graph=Nbr_graph, A_mat=A)\n",
        "tau = int(autocorr_gw2010(mc_energies[4000000:], c=5.0))\n",
        "tau, len(mc_energies[400000:][::tau]), acc_rate"
      ],
      "metadata": {
        "colab": {
          "base_uri": "https://localhost:8080/"
        },
        "id": "jLPoV-v2uUyA",
        "outputId": "a6b3d423-4bac-40d8-aa26-be5c9fb06a8d"
      },
      "execution_count": null,
      "outputs": [
        {
          "output_type": "execute_result",
          "data": {
            "text/plain": [
              "(13649, 2902, 0.2216746)"
            ]
          },
          "metadata": {},
          "execution_count": 32
        }
      ]
    },
    {
      "cell_type": "code",
      "source": [
        "temps, C_vals = heat_capacities(temps=np.arange(500,1501,100),n_steps=40000000)\n",
        "# plt.plot(temps,C_vals,'x')"
      ],
      "metadata": {
        "id": "Ro1Gq5HR9PaX"
      },
      "execution_count": null,
      "outputs": []
    },
    {
      "cell_type": "code",
      "source": [
        "plt.plot(range(0,len(mc_energies[10000:12000])), mc_energies[10000:12000])\n",
        "plt.show()"
      ],
      "metadata": {
        "colab": {
          "base_uri": "https://localhost:8080/",
          "height": 430
        },
        "id": "t5p9NdzYBMeA",
        "outputId": "df3a10dd-1384-459b-ea96-8e1e2092a0be"
      },
      "execution_count": null,
      "outputs": [
        {
          "output_type": "display_data",
          "data": {
            "text/plain": [
              "<Figure size 640x480 with 1 Axes>"
            ],
            "image/png": "[encoded data removed]"
          },
          "metadata": {}
        }
      ]
    },
    {
      "cell_type": "code",
      "source": [
        "tau"
      ],
      "metadata": {
        "colab": {
          "base_uri": "https://localhost:8080/"
        },
        "id": "k_i18CyPCQYp",
        "outputId": "cab49a0c-f3fb-40cd-f3ed-77c089d401c0"
      },
      "execution_count": null,
      "outputs": [
        {
          "output_type": "execute_result",
          "data": {
            "text/plain": [
              "4754"
            ]
          },
          "metadata": {},
          "execution_count": 21
        }
      ]
    },
    {
      "cell_type": "code",
      "source": [
        "jk = np.array([1,3,2,4,3,5])\n",
        "np.nonzero(jk!=3)[0]"
      ],
      "metadata": {
        "colab": {
          "base_uri": "https://localhost:8080/"
        },
        "id": "YQyZHcR5M7eY",
        "outputId": "dedf5721-dec2-4ed4-98e5-4101451a445d"
      },
      "execution_count": null,
      "outputs": [
        {
          "output_type": "execute_result",
          "data": {
            "text/plain": [
              "array([0, 2, 3, 5])"
            ]
          },
          "metadata": {},
          "execution_count": 27
        }
      ]
    },
    {
      "cell_type": "code",
      "source": [
        "states, energies = MHMC(n_states=520, density=7/15, T=250, graph=Nbr_graph, A_mat=A)\n",
        "plt.plot(range(0,len(energies)), energies)\n",
        "plt.show()"
      ],
      "metadata": {
        "id": "VcLXPWkfw7l6",
        "colab": {
          "base_uri": "https://localhost:8080/",
          "height": 1000
        },
        "outputId": "d09e38bb-0fc2-4dbd-9040-a4196def3bec"
      },
      "execution_count": null,
      "outputs": [
        {
          "output_type": "stream",
          "name": "stdout",
          "text": [
            "no. of states = 96, tau = 4237\n",
            "no. of states = 103, tau = 30579\n",
            "no. of states = 110, tau = 28609\n",
            "no. of states = 120, tau = 21353\n",
            "no. of states = 131, tau = 19540\n",
            "no. of states = 143, tau = 17691\n",
            "no. of states = 157, tau = 15017\n",
            "no. of states = 172, tau = 14195\n",
            "no. of states = 187, tau = 14129\n",
            "no. of states = 202, tau = 13825\n",
            "no. of states = 216, tau = 14373\n",
            "no. of states = 229, tau = 16609\n",
            "no. of states = 238, tau = 22426\n",
            "no. of states = 248, tau = 20914\n",
            "no. of states = 259, tau = 19703\n",
            "no. of states = 267, tau = 27776\n",
            "no. of states = 276, tau = 24678\n",
            "no. of states = 284, tau = 27284\n",
            "no. of states = 292, tau = 28047\n",
            "no. of states = 300, tau = 26707\n",
            "no. of states = 308, tau = 27065\n",
            "no. of states = 316, tau = 25722\n",
            "no. of states = 324, tau = 25789\n",
            "no. of states = 333, tau = 24841\n",
            "no. of states = 342, tau = 24637\n",
            "no. of states = 351, tau = 23736\n",
            "no. of states = 359, tau = 28165\n",
            "no. of states = 367, tau = 26478\n",
            "no. of states = 375, tau = 27923\n",
            "no. of states = 383, tau = 26616\n",
            "no. of states = 391, tau = 26711\n",
            "no. of states = 399, tau = 26127\n",
            "no. of states = 407, tau = 25371\n",
            "no. of states = 416, tau = 23824\n",
            "no. of states = 425, tau = 23356\n",
            "no. of states = 434, tau = 24946\n",
            "no. of states = 442, tau = 28044\n",
            "no. of states = 450, tau = 27750\n",
            "no. of states = 458, tau = 27569\n",
            "no. of states = 466, tau = 26561\n",
            "no. of states = 474, tau = 26644\n",
            "no. of states = 482, tau = 25452\n",
            "no. of states = 491, tau = 24806\n",
            "no. of states = 500, tau = 24044\n",
            "no. of states = 509, tau = 24139\n",
            "no. of states = 518, tau = 24012\n",
            "no. of states = 527, tau = 24684\n",
            "acc. rate = 0.4295818013246957\n"
          ]
        },
        {
          "output_type": "display_data",
          "data": {
            "image/png": "[encoded data removed]",
            "text/plain": [
              "<Figure size 432x288 with 1 Axes>"
            ]
          },
          "metadata": {
            "needs_background": "light"
          }
        }
      ]
    },
    {
      "cell_type": "code",
      "source": [
        "np.save('/content/drive/MyDrive/Datasets/MC Data/LLZO_250_7-15', states)\n",
        "# states = np.load('/content/drive/MyDrive/Datasets/MC Data/LLZO1016.npy', allow_pickle=True)"
      ],
      "metadata": {
        "id": "wVXIGmZggBhi"
      },
      "execution_count": null,
      "outputs": []
    },
    {
      "cell_type": "code",
      "source": [
        "while True:\n",
        "  pass"
      ],
      "metadata": {
        "id": "KHpxkSK9HiwD",
        "colab": {
          "base_uri": "https://localhost:8080/",
          "height": 182
        },
        "outputId": "2dc6459e-b49d-40cc-90cf-0f3221cd1555"
      },
      "execution_count": null,
      "outputs": [
        {
          "output_type": "error",
          "ename": "KeyboardInterrupt",
          "evalue": "ignored",
          "traceback": [
            "\u001b[0;31m---------------------------------------------------------------------------\u001b[0m",
            "\u001b[0;31mKeyboardInterrupt\u001b[0m                         Traceback (most recent call last)",
            "\u001b[0;32m<ipython-input-10-648a2bab0435>\u001b[0m in \u001b[0;36m<module>\u001b[0;34m()\u001b[0m\n\u001b[1;32m      1\u001b[0m \u001b[0;32mwhile\u001b[0m \u001b[0;32mTrue\u001b[0m\u001b[0;34m:\u001b[0m\u001b[0;34m\u001b[0m\u001b[0;34m\u001b[0m\u001b[0m\n\u001b[0;32m----> 2\u001b[0;31m   \u001b[0;32mpass\u001b[0m\u001b[0;34m\u001b[0m\u001b[0;34m\u001b[0m\u001b[0m\n\u001b[0m",
            "\u001b[0;31mKeyboardInterrupt\u001b[0m: "
          ]
        }
      ]
    },
    {
      "cell_type": "code",
      "source": [
        "plt.plot(range(0,len(energies))[100000:], energies[100000:])\n",
        "plt.show()"
      ],
      "metadata": {
        "id": "h0HGTa4xxjRq"
      },
      "execution_count": null,
      "outputs": []
    },
    {
      "cell_type": "markdown",
      "source": [
        "**PCA**"
      ],
      "metadata": {
        "id": "CZh--pc6gsYC"
      }
    },
    {
      "cell_type": "code",
      "source": [
        "figsize(8,5)\n",
        "X = StandardScaler(with_std=False).fit_transform(eig_decomp_mat)\n",
        "pca = PCA()\n",
        "principalComponents = pca.fit_transform(X)\n",
        "plt.plot(pca.singular_values_, 'o')\n",
        "plt.show()"
      ],
      "metadata": {
        "colab": {
          "base_uri": "https://localhost:8080/",
          "height": 320
        },
        "id": "w2ilXEbd03cJ",
        "outputId": "4ab5f3e9-ea94-48e6-c863-05a7e228bb18"
      },
      "execution_count": null,
      "outputs": [
        {
          "output_type": "display_data",
          "data": {
            "image/png": "[encoded data removed]",
            "text/plain": [
              "<Figure size 576x360 with 1 Axes>"
            ]
          },
          "metadata": {
            "needs_background": "light"
          }
        }
      ]
    },
    {
      "cell_type": "code",
      "source": [
        "plt.plot(np.arange(len(pca.components_[0])),pca.components_[0])\n",
        "plt.show()"
      ],
      "metadata": {
        "colab": {
          "base_uri": "https://localhost:8080/",
          "height": 323
        },
        "id": "57iZdgqhZA2x",
        "outputId": "a3219218-1c85-4ea8-aa4e-92dc98cf5598"
      },
      "execution_count": null,
      "outputs": [
        {
          "output_type": "display_data",
          "data": {
            "image/png": "[encoded data removed]",
            "text/plain": [
              "<Figure size 576x360 with 1 Axes>"
            ]
          },
          "metadata": {
            "needs_background": "light"
          }
        }
      ]
    },
    {
      "cell_type": "code",
      "source": [
        "plt.hist(principalComponents[:,0],bins=100)\n",
        "plt.show()"
      ],
      "metadata": {
        "id": "qcVi-jPGhGNl",
        "colab": {
          "base_uri": "https://localhost:8080/",
          "height": 320
        },
        "outputId": "c2727b39-06b0-44f6-fc6e-a6049445c0a4"
      },
      "execution_count": null,
      "outputs": [
        {
          "output_type": "display_data",
          "data": {
            "image/png": "[encoded data removed]",
            "text/plain": [
              "<Figure size 576x360 with 1 Axes>"
            ]
          },
          "metadata": {
            "needs_background": "light"
          }
        }
      ]
    },
    {
      "cell_type": "code",
      "source": [
        "np.all(generate_state(len(A),7/15)==0)"
      ],
      "metadata": {
        "id": "e8ZPRWUhdokg"
      },
      "execution_count": null,
      "outputs": []
    },
    {
      "cell_type": "code",
      "source": [
        "a = np.array([[1, 2], [3, 4],[5,6]])\n",
        "b = np.array([[5, 6],[7,8]])\n",
        "c = np.zeros((0,0))\n",
        "np.concatenate((a,b,c), axis=0)"
      ],
      "metadata": {
        "id": "nWSlvtTWfGhp"
      },
      "execution_count": null,
      "outputs": []
    },
    {
      "cell_type": "code",
      "source": [
        "df = pd.DataFrame(columns=cols)\n",
        "df.loc[len(df)] = [1,1,0,1]\n",
        "display(df)"
      ],
      "metadata": {
        "id": "bo1J-p0MtsOC"
      },
      "execution_count": null,
      "outputs": []
    },
    {
      "cell_type": "code",
      "source": [
        "cols = list(np.arange(4))\n",
        "for i in range(len(cols)):\n",
        "  cols[i] = str(cols[i])\n",
        "cols"
      ],
      "metadata": {
        "id": "9GCqVp-eN0O9"
      },
      "execution_count": null,
      "outputs": []
    },
    {
      "cell_type": "code",
      "source": [
        "df.loc[len(df)] = np.array([0,0,0,1])\n",
        "display(df)"
      ],
      "metadata": {
        "id": "7YzVRoX6ReQW"
      },
      "execution_count": null,
      "outputs": []
    },
    {
      "cell_type": "code",
      "source": [
        "df.loc[::2]"
      ],
      "metadata": {
        "id": "1wkd0La_q8ma"
      },
      "execution_count": null,
      "outputs": []
    },
    {
      "cell_type": "code",
      "source": [
        "np.concatenate((np.zeros((5,3)),np.ones((2,3))),axis=0)"
      ],
      "metadata": {
        "id": "t9d_MvP7rFdj"
      },
      "execution_count": null,
      "outputs": []
    },
    {
      "cell_type": "code",
      "source": [
        "eigvals, eigvecs = np.linalg.eigh(A)"
      ],
      "metadata": {
        "id": "TLQnX5PLGb51"
      },
      "execution_count": null,
      "outputs": []
    },
    {
      "cell_type": "code",
      "source": [
        "eig_decomp_mat = np.matmul(states[100:], eigvecs)"
      ],
      "metadata": {
        "id": "cHQ2aO-dUX-g"
      },
      "execution_count": null,
      "outputs": []
    },
    {
      "cell_type": "code",
      "source": [
        "plt.plot(np.arange(len(eig_decomp_mat[2])), eig_decomp_mat[300])\n",
        "plt.show()"
      ],
      "metadata": {
        "colab": {
          "base_uri": "https://localhost:8080/",
          "height": 320
        },
        "id": "L0WENiDOUxbG",
        "outputId": "34be9eb2-fd5f-4c81-e140-6ba3ca79aae9"
      },
      "execution_count": null,
      "outputs": [
        {
          "output_type": "display_data",
          "data": {
            "image/png": "[encoded data removed]",
            "text/plain": [
              "<Figure size 576x360 with 1 Axes>"
            ]
          },
          "metadata": {
            "needs_background": "light"
          }
        }
      ]
    },
    {
      "cell_type": "code",
      "source": [
        "Li_Cif = ('/content/drive/MyDrive/CIF Files/llzo cubic.cif')\n",
        "llzo_cif = CifFile.from_file(Li_Cif)"
      ],
      "metadata": {
        "id": "n-WO2hPEK3v9"
      },
      "execution_count": null,
      "outputs": []
    },
    {
      "cell_type": "code",
      "source": [
        "!pip install pybtex\n",
        "from pymatgen.io.cif import CifParser, CifFile, CifBlock"
      ],
      "metadata": {
        "id": "-dFUAESSVR5V",
        "colab": {
          "base_uri": "https://localhost:8080/"
        },
        "outputId": "ed534514-2171-494a-e2cb-e35c8898e613"
      },
      "execution_count": null,
      "outputs": [
        {
          "output_type": "stream",
          "name": "stdout",
          "text": [
            "Collecting pybtex\n",
            "  Downloading pybtex-0.24.0-py2.py3-none-any.whl (561 kB)\n",
            "\u001b[?25l\r\u001b[K     |▋                               | 10 kB 25.2 MB/s eta 0:00:01\r\u001b[K     |█▏                              | 20 kB 23.9 MB/s eta 0:00:01\r\u001b[K     |█▊                              | 30 kB 12.6 MB/s eta 0:00:01\r\u001b[K     |██▍                             | 40 kB 10.4 MB/s eta 0:00:01\r\u001b[K     |███                             | 51 kB 4.7 MB/s eta 0:00:01\r\u001b[K     |███▌                            | 61 kB 5.5 MB/s eta 0:00:01\r\u001b[K     |████                            | 71 kB 5.8 MB/s eta 0:00:01\r\u001b[K     |████▊                           | 81 kB 4.3 MB/s eta 0:00:01\r\u001b[K     |█████▎                          | 92 kB 4.7 MB/s eta 0:00:01\r\u001b[K     |█████▉                          | 102 kB 5.2 MB/s eta 0:00:01\r\u001b[K     |██████▍                         | 112 kB 5.2 MB/s eta 0:00:01\r\u001b[K     |███████                         | 122 kB 5.2 MB/s eta 0:00:01\r\u001b[K     |███████▋                        | 133 kB 5.2 MB/s eta 0:00:01\r\u001b[K     |████████▏                       | 143 kB 5.2 MB/s eta 0:00:01\r\u001b[K     |████████▊                       | 153 kB 5.2 MB/s eta 0:00:01\r\u001b[K     |█████████▍                      | 163 kB 5.2 MB/s eta 0:00:01\r\u001b[K     |██████████                      | 174 kB 5.2 MB/s eta 0:00:01\r\u001b[K     |██████████▌                     | 184 kB 5.2 MB/s eta 0:00:01\r\u001b[K     |███████████                     | 194 kB 5.2 MB/s eta 0:00:01\r\u001b[K     |███████████▊                    | 204 kB 5.2 MB/s eta 0:00:01\r\u001b[K     |████████████▎                   | 215 kB 5.2 MB/s eta 0:00:01\r\u001b[K     |████████████▉                   | 225 kB 5.2 MB/s eta 0:00:01\r\u001b[K     |█████████████▍                  | 235 kB 5.2 MB/s eta 0:00:01\r\u001b[K     |██████████████                  | 245 kB 5.2 MB/s eta 0:00:01\r\u001b[K     |██████████████▋                 | 256 kB 5.2 MB/s eta 0:00:01\r\u001b[K     |███████████████▏                | 266 kB 5.2 MB/s eta 0:00:01\r\u001b[K     |███████████████▊                | 276 kB 5.2 MB/s eta 0:00:01\r\u001b[K     |████████████████▍               | 286 kB 5.2 MB/s eta 0:00:01\r\u001b[K     |█████████████████               | 296 kB 5.2 MB/s eta 0:00:01\r\u001b[K     |█████████████████▌              | 307 kB 5.2 MB/s eta 0:00:01\r\u001b[K     |██████████████████              | 317 kB 5.2 MB/s eta 0:00:01\r\u001b[K     |██████████████████▊             | 327 kB 5.2 MB/s eta 0:00:01\r\u001b[K     |███████████████████▎            | 337 kB 5.2 MB/s eta 0:00:01\r\u001b[K     |███████████████████▉            | 348 kB 5.2 MB/s eta 0:00:01\r\u001b[K     |████████████████████▍           | 358 kB 5.2 MB/s eta 0:00:01\r\u001b[K     |█████████████████████           | 368 kB 5.2 MB/s eta 0:00:01\r\u001b[K     |█████████████████████▋          | 378 kB 5.2 MB/s eta 0:00:01\r\u001b[K     |██████████████████████▏         | 389 kB 5.2 MB/s eta 0:00:01\r\u001b[K     |██████████████████████▊         | 399 kB 5.2 MB/s eta 0:00:01\r\u001b[K     |███████████████████████▍        | 409 kB 5.2 MB/s eta 0:00:01\r\u001b[K     |████████████████████████        | 419 kB 5.2 MB/s eta 0:00:01\r\u001b[K     |████████████████████████▌       | 430 kB 5.2 MB/s eta 0:00:01\r\u001b[K     |█████████████████████████       | 440 kB 5.2 MB/s eta 0:00:01\r\u001b[K     |█████████████████████████▊      | 450 kB 5.2 MB/s eta 0:00:01\r\u001b[K     |██████████████████████████▎     | 460 kB 5.2 MB/s eta 0:00:01\r\u001b[K     |██████████████████████████▉     | 471 kB 5.2 MB/s eta 0:00:01\r\u001b[K     |███████████████████████████▍    | 481 kB 5.2 MB/s eta 0:00:01\r\u001b[K     |████████████████████████████    | 491 kB 5.2 MB/s eta 0:00:01\r\u001b[K     |████████████████████████████▋   | 501 kB 5.2 MB/s eta 0:00:01\r\u001b[K     |█████████████████████████████▏  | 512 kB 5.2 MB/s eta 0:00:01\r\u001b[K     |█████████████████████████████▊  | 522 kB 5.2 MB/s eta 0:00:01\r\u001b[K     |██████████████████████████████▍ | 532 kB 5.2 MB/s eta 0:00:01\r\u001b[K     |███████████████████████████████ | 542 kB 5.2 MB/s eta 0:00:01\r\u001b[K     |███████████████████████████████▌| 552 kB 5.2 MB/s eta 0:00:01\r\u001b[K     |████████████████████████████████| 561 kB 5.2 MB/s \n",
            "\u001b[?25hRequirement already satisfied: PyYAML>=3.01 in /usr/local/lib/python3.7/dist-packages (from pybtex) (3.13)\n",
            "Requirement already satisfied: six in /usr/local/lib/python3.7/dist-packages (from pybtex) (1.15.0)\n",
            "Collecting latexcodec>=1.0.4\n",
            "  Downloading latexcodec-2.0.1-py2.py3-none-any.whl (18 kB)\n",
            "Installing collected packages: latexcodec, pybtex\n",
            "Successfully installed latexcodec-2.0.1 pybtex-0.24.0\n"
          ]
        }
      ]
    },
    {
      "cell_type": "code",
      "source": [
        "llzo_cif.orig_string"
      ],
      "metadata": {
        "colab": {
          "base_uri": "https://localhost:8080/",
          "height": 122
        },
        "id": "pscGSXu414-h",
        "outputId": "c7fb8f02-6b35-4af0-d7f3-19d8c1e271e7"
      },
      "execution_count": null,
      "outputs": [
        {
          "output_type": "execute_result",
          "data": {
            "application/vnd.google.colaboratory.intrinsic+json": {
              "type": "string"
            },
            "text/plain": [
              "\"\\n#(C) 2018 by FIZ Karlsruhe - Leibniz Institute for Information Infrastructure.  All rights reserved.\\ndata_183607-ICSD\\n_database_code_ICSD 183607\\n_audit_creation_date 2012-08-01\\n_audit_update_record 2013-08-01\\n_chemical_name_systematic 'Heptalithium trilanthanum dizirconium dodecaoxide'\\n_chemical_formula_structural 'Li7 La3 Zr2 O12'\\n_chemical_formula_sum 'La3 Li7 O12 Zr2'\\n_chemical_name_structure_type Li7La3Zr2O12\\n_exptl_crystal_density_diffrn 5.07\\n_cell_measurement_temperature 293.\\n_publ_section_title\\n'Lithium distribution in aluminum-free cubic Li7 La3 Zr2 O12'\\nloop_\\n_citation_id\\n_citation_journal_full\\n_citation_year\\n_citation_journal_volume\\n_citation_page_first\\n_citation_page_last\\n_citation_journal_id_ASTM\\nprimary 'Chemistry of Materials' 2011 23 3587 3589 CMATEX\\nloop_\\n_publ_author_name\\n'Xie, Hui'\\n'Alonso, J.A.'\\n'Li, Yu Tao'\\n'Fernandez Diaz, M.T.'\\n'Goodenough, J.B.'\\n_cell_length_a 13.0035\\n_cell_length_b 13.0035\\n_cell_length_c 13.0035\\n_cell_angle_alpha 90.\\n_cell_angle_beta 90.\\n_cell_angle_gamma 90.\\n_cell_volume 2198.77\\n_cell_formula_units_Z 8\\n_symmetry_space_group_name_H-M 'I a -3 d'\\n_symmetry_Int_Tables_number 230\\nloop_\\n_symmetry_equiv_pos_site_id\\n_symmetry_equiv_pos_as_xyz\\n1 '-z+3/4, y+1/4, x+3/4'\\n2 'z+3/4, -y+3/4, x+1/4'\\n3 'z+1/4, y+3/4, -x+3/4'\\n4 '-z+1/4, -y+1/4, -x+1/4'\\n5 'y+1/4, x+3/4, -z+3/4'\\n6 '-y+3/4, x+1/4, z+3/4'\\n7 'y+3/4, -x+3/4, z+1/4'\\n8 '-y+1/4, -x+1/4, -z+1/4'\\n9 'x+3/4, -z+3/4, y+1/4'\\n10 'x+1/4, z+3/4, -y+3/4'\\n11 '-x+3/4, z+1/4, y+3/4'\\n12 '-x+1/4, -z+1/4, -y+1/4'\\n13 'z+3/4, -y+1/4, -x+3/4'\\n14 '-z+3/4, y+3/4, -x+1/4'\\n15 '-z+1/4, -y+3/4, x+3/4'\\n16 'z+1/4, y+1/4, x+1/4'\\n17 '-y+1/4, -x+3/4, z+3/4'\\n18 'y+3/4, -x+1/4, -z+3/4'\\n19 '-y+3/4, x+3/4, -z+1/4'\\n20 'y+1/4, x+1/4, z+1/4'\\n21 '-x+3/4, z+3/4, -y+1/4'\\n22 '-x+1/4, -z+3/4, y+3/4'\\n23 'x+3/4, -z+1/4, -y+3/4'\\n24 'x+1/4, z+1/4, y+1/4'\\n25 '-z+1/2, x+1/2, y'\\n26 'z+1/2, x, -y+1/2'\\n27 'z, -x+1/2, y+1/2'\\n28 '-z, -x, -y'\\n29 'y, -z+1/2, x+1/2'\\n30 '-y+1/2, z+1/2, x'\\n31 'y+1/2, z, -x+1/2'\\n32 '-y, -z, -x'\\n33 'x+1/2, y, -z+1/2'\\n34 'x, -y+1/2, z+1/2'\\n35 '-x+1/2, y+1/2, z'\\n36 '-x, -y, -z'\\n37 'z+1/2, -x+1/2, -y'\\n38 '-z+1/2, -x, y+1/2'\\n39 '-z, x+1/2, -y+1/2'\\n40 'z, x, y'\\n41 '-y, z+1/2, -x+1/2'\\n42 'y+1/2, -z+1/2, -x'\\n43 '-y+1/2, -z, x+1/2'\\n44 'y, z, x'\\n45 '-x+1/2, -y, z+1/2'\\n46 '-x, y+1/2, -z+1/2'\\n47 'x+1/2, -y+1/2, -z'\\n48 'x, y, z'\\n49 '-z+1/4, y+3/4, x+1/4'\\n50 'z+1/4, -y+1/4, x+3/4'\\n51 'z+3/4, y+1/4, -x+1/4'\\n52 '-z+3/4, -y+3/4, -x+3/4'\\n53 'y+3/4, x+1/4, -z+1/4'\\n54 '-y+1/4, x+3/4, z+1/4'\\n55 'y+1/4, -x+1/4, z+3/4'\\n56 '-y+3/4, -x+3/4, -z+3/4'\\n57 'x+1/4, -z+1/4, y+3/4'\\n58 'x+3/4, z+1/4, -y+1/4'\\n59 '-x+1/4, z+3/4, y+1/4'\\n60 '-x+3/4, -z+3/4, -y+3/4'\\n61 'z+1/4, -y+3/4, -x+1/4'\\n62 '-z+1/4, y+1/4, -x+3/4'\\n63 '-z+3/4, -y+1/4, x+1/4'\\n64 'z+3/4, y+3/4, x+3/4'\\n65 '-y+3/4, -x+1/4, z+1/4'\\n66 'y+1/4, -x+3/4, -z+1/4'\\n67 '-y+1/4, x+1/4, -z+3/4'\\n68 'y+3/4, x+3/4, z+3/4'\\n69 '-x+1/4, z+1/4, -y+3/4'\\n70 '-x+3/4, -z+1/4, y+1/4'\\n71 'x+1/4, -z+3/4, -y+1/4'\\n72 'x+3/4, z+3/4, y+3/4'\\n73 '-z, x, y+1/2'\\n74 'z, x+1/2, -y'\\n75 'z+1/2, -x, y'\\n76 '-z+1/2, -x+1/2, -y+1/2'\\n77 'y+1/2, -z, x'\\n78 '-y, z, x+1/2'\\n79 'y, z+1/2, -x'\\n80 '-y+1/2, -z+1/2, -x+1/2'\\n81 'x, y+1/2, -z'\\n82 'x+1/2, -y, z'\\n83 '-x, y, z+1/2'\\n84 '-x+1/2, -y+1/2, -z+1/2'\\n85 'z, -x, -y+1/2'\\n86 '-z, -x+1/2, y'\\n87 '-z+1/2, x, -y'\\n88 'z+1/2, x+1/2, y+1/2'\\n89 '-y+1/2, z, -x'\\n90 'y, -z, -x+1/2'\\n91 '-y, -z+1/2, x'\\n92 'y+1/2, z+1/2, x+1/2'\\n93 '-x, -y+1/2, z'\\n94 '-x+1/2, y, -z'\\n95 'x, -y, -z+1/2'\\n96 'x+1/2, y+1/2, z+1/2'\\nloop_\\n_atom_type_symbol\\n_atom_type_oxidation_number\\nLi1+ 1\\nLa3+ 3\\nZr4+ 4\\nO2- -2\\nloop_\\n_atom_site_label\\n_atom_site_type_symbol\\n_atom_site_symmetry_multiplicity\\n_atom_site_Wyckoff_symbol\\n_atom_site_fract_x\\n_atom_site_fract_y\\n_atom_site_fract_z\\n_atom_site_B_iso_or_equiv\\n_atom_site_occupancy\\n_atom_site_attached_hydrogens\\nLi1 Li1+ 24 d 0.375 0 0.25 0.026(2) 0.564(12) 0\\nLi2 Li1+ 96 h 0.6802(8) 0.5768(8) 0.1004(9) 0.034(3) 0.442(3) 0\\nLa1 La3+ 24 c 0.125 0 0.25 0.0124 1. 0\\nZr1 Zr4+ 16 a 0 0 0 0.0107 1. 0\\nO1 O2- 96 h -.0316 0.0538 0.1501 0.0174 1. 0\\n#End of TTdata_183607-ICSD\""
            ]
          },
          "metadata": {},
          "execution_count": 12
        }
      ]
    },
    {
      "cell_type": "code",
      "source": [
        "#CifParser.get_bibtex_string(llzo_cif.data)\n",
        "cif_parse = CifParser(Li_Cif)"
      ],
      "metadata": {
        "id": "yfBb5P4HK6si"
      },
      "execution_count": null,
      "outputs": []
    },
    {
      "cell_type": "code",
      "source": [
        "CifParser.get_bibtex_string(llzo_cif.orig_string)"
      ],
      "metadata": {
        "colab": {
          "base_uri": "https://localhost:8080/",
          "height": 286
        },
        "id": "jdt4IZEgLD2V",
        "outputId": "ec6e9f6b-2893-444f-ae87-0cd8a62f1e49"
      },
      "execution_count": null,
      "outputs": [
        {
          "output_type": "error",
          "ename": "AttributeError",
          "evalue": "ignored",
          "traceback": [
            "\u001b[0;31m---------------------------------------------------------------------------\u001b[0m",
            "\u001b[0;31mAttributeError\u001b[0m                            Traceback (most recent call last)",
            "\u001b[0;32m<ipython-input-13-7fe6bf108972>\u001b[0m in \u001b[0;36m<module>\u001b[0;34m()\u001b[0m\n\u001b[0;32m----> 1\u001b[0;31m \u001b[0mCifParser\u001b[0m\u001b[0;34m.\u001b[0m\u001b[0mget_bibtex_string\u001b[0m\u001b[0;34m(\u001b[0m\u001b[0mllzo_cif\u001b[0m\u001b[0;34m.\u001b[0m\u001b[0morig_string\u001b[0m\u001b[0;34m)\u001b[0m\u001b[0;34m\u001b[0m\u001b[0;34m\u001b[0m\u001b[0m\n\u001b[0m",
            "\u001b[0;32m/usr/local/lib/python3.7/dist-packages/pymatgen/io/cif.py\u001b[0m in \u001b[0;36mget_bibtex_string\u001b[0;34m(self)\u001b[0m\n\u001b[1;32m   1201\u001b[0m         \u001b[0;31m# TODO: CIF specification supports multiple citations.\u001b[0m\u001b[0;34m\u001b[0m\u001b[0;34m\u001b[0m\u001b[0;34m\u001b[0m\u001b[0m\n\u001b[1;32m   1202\u001b[0m \u001b[0;34m\u001b[0m\u001b[0m\n\u001b[0;32m-> 1203\u001b[0;31m         \u001b[0;32mfor\u001b[0m \u001b[0midx\u001b[0m\u001b[0;34m,\u001b[0m \u001b[0mdata\u001b[0m \u001b[0;32min\u001b[0m \u001b[0menumerate\u001b[0m\u001b[0;34m(\u001b[0m\u001b[0mself\u001b[0m\u001b[0;34m.\u001b[0m\u001b[0m_cif\u001b[0m\u001b[0;34m.\u001b[0m\u001b[0mdata\u001b[0m\u001b[0;34m.\u001b[0m\u001b[0mvalues\u001b[0m\u001b[0;34m(\u001b[0m\u001b[0;34m)\u001b[0m\u001b[0;34m)\u001b[0m\u001b[0;34m:\u001b[0m\u001b[0;34m\u001b[0m\u001b[0;34m\u001b[0m\u001b[0m\n\u001b[0m\u001b[1;32m   1204\u001b[0m \u001b[0;34m\u001b[0m\u001b[0m\n\u001b[1;32m   1205\u001b[0m             \u001b[0;31m# convert to lower-case keys, some cif files inconsistent\u001b[0m\u001b[0;34m\u001b[0m\u001b[0;34m\u001b[0m\u001b[0;34m\u001b[0m\u001b[0m\n",
            "\u001b[0;31mAttributeError\u001b[0m: 'str' object has no attribute '_cif'"
          ]
        }
      ]
    },
    {
      "cell_type": "code",
      "source": [
        "from psutil import virtual_memory\n",
        "ram_gb = virtual_memory().total / 1e9\n",
        "print('Your runtime has {:.1f} gigabytes of available RAM\\n'.format(ram_gb))\n",
        "\n",
        "if ram_gb < 20:\n",
        "  print('Not using a high-RAM runtime')\n",
        "else:\n",
        "  print('You are using a high-RAM runtime!')"
      ],
      "metadata": {
        "id": "7KPQaV9j2qbX",
        "colab": {
          "base_uri": "https://localhost:8080/"
        },
        "outputId": "df7a7c83-7269-45a3-e595-e562ef1777e6"
      },
      "execution_count": 1,
      "outputs": [
        {
          "output_type": "stream",
          "name": "stdout",
          "text": [
            "Your runtime has 13.6 gigabytes of available RAM\n",
            "\n",
            "Not using a high-RAM runtime\n"
          ]
        }
      ]
    },
    {
      "cell_type": "code",
      "source": [],
      "metadata": {
        "id": "S5zMAvM8mIxY"
      },
      "execution_count": null,
      "outputs": []
    }
  ]
}